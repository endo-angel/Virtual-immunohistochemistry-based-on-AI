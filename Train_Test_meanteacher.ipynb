{
 "cells": [
  {
   "cell_type": "code",
   "execution_count": null,
   "id": "e70aaefd-5274-4087-abe8-c20be8e0d829",
   "metadata": {},
   "outputs": [],
   "source": [
    "import sys\n",
    "sys.path.insert(0, r'G:\\projects\\GitHub\\HE')\n",
    "from trainer_meanteacher import Trainer"
   ]
  },
  {
   "cell_type": "code",
   "execution_count": null,
   "id": "ad9353af-7c03-4f4a-92bd-c03121f6cce7",
   "metadata": {},
   "outputs": [],
   "source": [
    "proj_name = 'HE_ki67'\n",
    "data_root = r'J:\\zbq\\ai_data\\HE\\ki67'\n",
    "result_path = r'G:\\projects\\znyx-trainer\\books\\results'\n",
    "n_labels = 2\n",
    "bs = 32\n",
    "patience = 5\n",
    "channel_stats = dict(mean=[0.3417, 0.2706, 0.1812], std=[0.3158, 0.2632, 0.1864])"
   ]
  },
  {
   "cell_type": "markdown",
   "id": "9bbede6d-707a-40db-8cac-4b6d2621c10c",
   "metadata": {},
   "source": [
    "### Train"
   ]
  },
  {
   "cell_type": "code",
   "execution_count": null,
   "id": "2cf93aa5-8301-4e82-9701-107952974d19",
   "metadata": {},
   "outputs": [],
   "source": [
    "trainer = Trainer(n_labels, channel_stats, proj_name, data_root, result_path, bs, patience)\n",
    "trainer.train()"
   ]
  },
  {
   "cell_type": "markdown",
   "id": "02b35df8-8e9a-4478-a958-09e4edff38c5",
   "metadata": {},
   "source": [
    "### Test"
   ]
  },
  {
   "cell_type": "code",
   "execution_count": null,
   "id": "b368ecfe-dfc3-40d0-afef-f105509b32c7",
   "metadata": {},
   "outputs": [],
   "source": [
    "trainer = Trainer(n_labels, channel_stats, proj_name, data_root, result_path, bs, patience)\n",
    "trainer.load_model(r'base.pth', r'ema.pth')"
   ]
  },
  {
   "cell_type": "code",
   "execution_count": null,
   "id": "aad69584-2c3a-4153-bc7a-7e169e9873c7",
   "metadata": {},
   "outputs": [],
   "source": [
    "trainer.predict_txtfile(trainer.model, r'test.txt')"
   ]
  },
  {
   "cell_type": "code",
   "execution_count": null,
   "id": "5d2dfe5b-096b-4b5b-b648-9b80c91abf3a",
   "metadata": {},
   "outputs": [],
   "source": [
    "trainer.predict_txtfile(trainer.ema_model, r'test.txt', is_ema=True)"
   ]
  }
 ],
 "metadata": {
  "kernelspec": {
   "display_name": "Python 3 (ipykernel)",
   "language": "python",
   "name": "python3"
  },
  "language_info": {
   "codemirror_mode": {
    "name": "ipython",
    "version": 3
   },
   "file_extension": ".py",
   "mimetype": "text/x-python",
   "name": "python",
   "nbconvert_exporter": "python",
   "pygments_lexer": "ipython3",
   "version": "3.10.13"
  }
 },
 "nbformat": 4,
 "nbformat_minor": 5
}
